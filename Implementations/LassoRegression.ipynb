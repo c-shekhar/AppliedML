{
 "cells": [
  {
   "cell_type": "markdown",
   "metadata": {},
   "source": [
    "### Lasso Regression"
   ]
  },
  {
   "cell_type": "code",
   "execution_count": 9,
   "metadata": {},
   "outputs": [
    {
     "name": "stdout",
     "output_type": "stream",
     "text": [
      "Crime Dataset\n",
      "Lasso Regression linear model coefficients: [    0.             0.            -0.          -168.18346054    -0.            -0.\n",
      "     0.           119.6938194      0.            -0.             0.\n",
      "  -169.67564456    -0.             0.            -0.             0.             0.\n",
      "     0.            -0.            -0.             0.            -0.             0.\n",
      "     0.           -57.52991966    -0.            -0.             0.\n",
      "   259.32889226    -0.             0.             0.             0.            -0.\n",
      " -1188.7396867     -0.            -0.            -0.          -231.42347299\n",
      "     0.          1488.36512229     0.            -0.            -0.            -0.\n",
      "     0.             0.             0.             0.             0.            -0.\n",
      "     0.            20.14419415     0.             0.             0.             0.\n",
      "     0.           339.04468804     0.             0.           459.53799903\n",
      "    -0.             0.           122.69221826    -0.            91.41202242\n",
      "     0.            -0.             0.             0.            73.14365856\n",
      "     0.            -0.             0.             0.            86.35600042\n",
      "     0.             0.             0.          -104.57143405   264.93206555\n",
      "     0.            23.4488645    -49.39355188     0.             5.19775369\n",
      "     0.        ]\n",
      "Lasso Regression linear model intercept: 1186.612062\n",
      "Lasso Regression linear model R-Squared score on training set: 0.6307\n",
      "Lasso Regression linear model R-Squared score on test set:0.6238\n",
      "Number of Non-Zero features: 20\n"
     ]
    }
   ],
   "source": [
    "import numpy as np\n",
    "from sklearn.model_selection import train_test_split\n",
    "from adspy_shared_utilities import load_crime_dataset\n",
    "from sklearn.linear_model import Lasso\n",
    "from sklearn.preprocessing import MinMaxScaler\n",
    "X_crime,y_crime = load_crime_dataset()\n",
    "X_train,X_test,y_train,y_test = train_test_split(X_crime,y_crime,random_state=0)\n",
    "scaler = MinMaxScaler()\n",
    "scaler.fit(X_train)\n",
    "X_train_scaled = scaler.transform(X_train)\n",
    "X_test_scaled = scaler.transform(X_test)\n",
    "lasso_reg = Lasso(alpha=2.0)\n",
    "lasso_reg.fit(X_train_scaled,y_train)\n",
    "print \"Crime Dataset\"\n",
    "print \"Lasso Regression linear model coefficients: {}\".format(lasso_reg.coef_)\n",
    "print \"Lasso Regression linear model intercept: {}\".format(lasso_reg.intercept_)\n",
    "print \"Lasso Regression linear model R-Squared score on training set: {:.4f}\"\\\n",
    ".format(lasso_reg.score(X_train_scaled,y_train))\n",
    "print \"Lasso Regression linear model R-Squared score on test set:{:.4f}\"\\\n",
    ".format(lasso_reg.score(X_test_scaled,y_test))\n",
    "print \"Number of Non-Zero features: {}\".format(np.sum(lasso_reg.coef_ != 0))"
   ]
  },
  {
   "cell_type": "markdown",
   "metadata": {},
   "source": [
    "#### Lasso Regression with regularization parameter:alpha"
   ]
  },
  {
   "cell_type": "code",
   "execution_count": 8,
   "metadata": {},
   "outputs": [
    {
     "name": "stdout",
     "output_type": "stream",
     "text": [
      "Crime Dataset\n",
      "Lasso Regression linear model R-Squared score with alpha = 0.5 on training set: 0.6503\n",
      "Lasso Regression linear model R-Squared score with alpha = 0.5 on test set:0.5807\n",
      "There are 17 Larger coefficients with alpha = 0.5\n",
      "Lasso Regression linear model R-Squared score with alpha = 1 on training set: 0.6411\n",
      "Lasso Regression linear model R-Squared score with alpha = 1 on test set:0.6047\n",
      "There are 15 Larger coefficients with alpha = 1\n",
      "Lasso Regression linear model R-Squared score with alpha = 2 on training set: 0.6307\n",
      "Lasso Regression linear model R-Squared score with alpha = 2 on test set:0.6238\n",
      "There are 13 Larger coefficients with alpha = 2\n",
      "Lasso Regression linear model R-Squared score with alpha = 3 on training set: 0.6175\n",
      "Lasso Regression linear model R-Squared score with alpha = 3 on test set:0.6272\n",
      "There are 11 Larger coefficients with alpha = 3\n",
      "Lasso Regression linear model R-Squared score with alpha = 5 on training set: 0.6009\n",
      "Lasso Regression linear model R-Squared score with alpha = 5 on test set:0.6140\n",
      "There are 8 Larger coefficients with alpha = 5\n",
      "Lasso Regression linear model R-Squared score with alpha = 10 on training set: 0.5671\n",
      "Lasso Regression linear model R-Squared score with alpha = 10 on test set:0.5782\n",
      "There are 4 Larger coefficients with alpha = 10\n",
      "Lasso Regression linear model R-Squared score with alpha = 20 on training set: 0.5095\n",
      "Lasso Regression linear model R-Squared score with alpha = 20 on test set:0.5036\n",
      "There are 1 Larger coefficients with alpha = 20\n",
      "Lasso Regression linear model R-Squared score with alpha = 50 on training set: 0.3132\n",
      "Lasso Regression linear model R-Squared score with alpha = 50 on test set:0.3021\n",
      "There are 0 Larger coefficients with alpha = 50\n"
     ]
    }
   ],
   "source": [
    "from sklearn.preprocessing import MinMaxScaler\n",
    "scaler = MinMaxScaler()\n",
    "scaler.fit(X_train)\n",
    "X_train_scaled = scaler.transform(X_train)\n",
    "X_test_scaled = scaler.transform(X_test)\n",
    "print \"Crime Dataset\"\n",
    "for alpha in [0.5, 1, 2, 3, 5, 10, 20, 50]:\n",
    "    lasso_reg = Lasso(alpha=alpha)\n",
    "    lasso_reg.fit(X_train_scaled,y_train)\n",
    "    print \"Lasso Regression linear model R-Squared score with alpha = {} on training set: {:.4f}\"\\\n",
    "    .format(alpha,lasso_reg.score(X_train_scaled,y_train))\n",
    "    print \"Lasso Regression linear model R-Squared score with alpha = {} on test set:{:.4f}\"\\\n",
    "    .format(alpha,lasso_reg.score(X_test_scaled,y_test))\n",
    "    print \"There are {} Larger coefficients with alpha = {}\".format(np.sum(lasso_reg.coef_ > 1.0),alpha)"
   ]
  }
 ],
 "metadata": {
  "kernelspec": {
   "display_name": "Python 2",
   "language": "python",
   "name": "python2"
  },
  "language_info": {
   "codemirror_mode": {
    "name": "ipython",
    "version": 2
   },
   "file_extension": ".py",
   "mimetype": "text/x-python",
   "name": "python",
   "nbconvert_exporter": "python",
   "pygments_lexer": "ipython2",
   "version": "2.7.8"
  }
 },
 "nbformat": 4,
 "nbformat_minor": 2
}
