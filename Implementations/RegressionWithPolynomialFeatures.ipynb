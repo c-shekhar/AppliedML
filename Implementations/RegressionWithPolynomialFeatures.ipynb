{
 "cells": [
  {
   "cell_type": "markdown",
   "metadata": {},
   "source": [
    "### Polynomial Regression"
   ]
  },
  {
   "cell_type": "markdown",
   "metadata": {},
   "source": [
    "#### Polynomial feature transformation on Friedman's slightly complex dataset"
   ]
  },
  {
   "cell_type": "code",
   "execution_count": 6,
   "metadata": {},
   "outputs": [],
   "source": [
    "import numpy as np\n",
    "import matplotlib.pyplot as plt"
   ]
  },
  {
   "cell_type": "code",
   "execution_count": 28,
   "metadata": {},
   "outputs": [
    {
     "data": {
      "image/png": "[encoded data removed]",
      "text/plain": [
       "<matplotlib.figure.Figure at 0x7f5d7dac9d90>"
      ]
     },
     "metadata": {},
     "output_type": "display_data"
    }
   ],
   "source": [
    "# synthetic dataset for more complex regression\n",
    "from sklearn.datasets import make_friedman1\n",
    "plt.figure()\n",
    "plt.title('Complex regression problem with one input variable')\n",
    "X_F1, y_F1 = make_friedman1(n_samples = 100,\n",
    "                           n_features = 7, random_state=0)\n",
    "plt.scatter(X_F1[:, 2], y_F1, marker= 'o', s=50)\n",
    "plt.show()"
   ]
  },
  {
   "cell_type": "code",
   "execution_count": 20,
   "metadata": {},
   "outputs": [
    {
     "name": "stdout",
     "output_type": "stream",
     "text": [
      "Linear regression R-Squared score(train): 0.7224\n",
      "Linear regression R-Squared score(test): 0.7221\n"
     ]
    }
   ],
   "source": [
    "from sklearn.linear_model import LinearRegression\n",
    "from sklearn.model_selection import train_test_split\n",
    "X_train,X_test,y_train,y_test = train_test_split(X_F1,y_F1,random_state=0)\n",
    "lin_reg = LinearRegression()\n",
    "lin_reg.fit(X_train,y_train)\n",
    "print \"Linear regression R-Squared score(train): {:.4f}\".format(lin_reg.score(X_train,y_train))\n",
    "print \"Linear regression R-Squared score(test): {:.4f}\".format(lin_reg.score(X_test,y_test))"
   ]
  },
  {
   "cell_type": "markdown",
   "metadata": {},
   "source": [
    "##### *Now, transforming the original input data to add  polynomial features up to degree 2 (quadratic)*"
   ]
  },
  {
   "cell_type": "code",
   "execution_count": 25,
   "metadata": {},
   "outputs": [
    {
     "name": "stdout",
     "output_type": "stream",
     "text": [
      "Linear regression R-Squared score(train) with transformed polynomial feature dataset: 0.9686\n",
      "Linear regression R-Squared score(test) with transformed polynomial feature dataset: 0.8046\n"
     ]
    }
   ],
   "source": [
    "from sklearn.preprocessing import PolynomialFeatures\n",
    "from sklearn.model_selection import train_test_split\n",
    "poly = PolynomialFeatures(degree=2)\n",
    "X_F1_poly = poly.fit_transform(X_F1)\n",
    "X_train,X_test,y_train,y_test = train_test_split(X_F1_poly,y_F1,random_state=0)\n",
    "lin_reg = LinearRegression()\n",
    "lin_reg.fit(X_train,y_train)\n",
    "print \"Linear regression R-Squared score(train) with transformed polynomial feature dataset: {:.4f}\"\\\n",
    ".format(lin_reg.score(X_train,y_train))\n",
    "print \"Linear regression R-Squared score(test) with transformed polynomial feature dataset: {:.4f}\"\\\n",
    ".format(lin_reg.score(X_test,y_test))"
   ]
  },
  {
   "cell_type": "markdown",
   "metadata": {},
   "source": [
    "##### *Now, using Ridge Regression with transformed polynomial features*"
   ]
  },
  {
   "cell_type": "code",
   "execution_count": 27,
   "metadata": {},
   "outputs": [
    {
     "name": "stdout",
     "output_type": "stream",
     "text": [
      "Ridge regression R-Squared score(train) with transformed polynomial feature dataset: 0.5928\n",
      "Ridge regression R-Squared score(test) with transformed polynomial feature dataset: 0.5844\n"
     ]
    }
   ],
   "source": [
    "from sklearn.linear_model import Ridge\n",
    "X_train,X_test,y_train,y_test = train_test_split(X_F1_poly,y_F1,random_state=0)\n",
    "ridge_reg = Ridge(alpha=20.0)\n",
    "ridge_reg.fit(X_train,y_train)\n",
    "print \"Ridge regression R-Squared score(train) with transformed polynomial feature dataset: {:.4f}\"\\\n",
    ".format(ridge_reg.score(X_train,y_train))\n",
    "print \"Ridge regression R-Squared score(test) with transformed polynomial feature dataset: {:.4f}\"\\\n",
    ".format(ridge_reg.score(X_test,y_test))"
   ]
  }
 ],
 "metadata": {
  "kernelspec": {
   "display_name": "Python 2",
   "language": "python",
   "name": "python2"
  },
  "language_info": {
   "codemirror_mode": {
    "name": "ipython",
    "version": 2
   },
   "file_extension": ".py",
   "mimetype": "text/x-python",
   "name": "python",
   "nbconvert_exporter": "python",
   "pygments_lexer": "ipython2",
   "version": "2.7.8"
  }
 },
 "nbformat": 4,
 "nbformat_minor": 2
}
