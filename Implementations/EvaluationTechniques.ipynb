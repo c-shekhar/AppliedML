{
 "cells": [
  {
   "cell_type": "markdown",
   "metadata": {},
   "source": [
    "### Cross Validation (k-fold)"
   ]
  },
  {
   "cell_type": "markdown",
   "metadata": {},
   "source": [
    "#### KNN classifier with fruit Dataset(2 features)"
   ]
  },
  {
   "cell_type": "code",
   "execution_count": 21,
   "metadata": {},
   "outputs": [
    {
     "name": "stdout",
     "output_type": "stream",
     "text": [
      "Cross-validation scores(3-fold): [ 0.66666667  0.47368421  0.89473684]\n",
      "Mean cross-validation score(3-fold): 0.678\n"
     ]
    }
   ],
   "source": [
    "import numpy as np\n",
    "import pandas as pd\n",
    "import matplotlib.pyplot as plt\n",
    "from sklearn.model_selection import cross_val_score\n",
    "from sklearn.neighbors import KNeighborsClassifier\n",
    "fruits_data = pd.read_table(\"../DataFiles/fruit_data_with_colors.txt\")\n",
    "X,y = fruits_data[['height', 'width']].as_matrix(),(fruits_data['fruit_label']==1).as_matrix()\n",
    "knn = KNeighborsClassifier(n_neighbors=5)\n",
    "cv_scores = cross_val_score(knn,X,y)\n",
    "print \"Cross-validation scores(3-fold): {}\".format(cv_scores)\n",
    "print \"Mean cross-validation score(3-fold): {:.3f}\".format(np.mean(cv_scores))"
   ]
  },
  {
   "cell_type": "markdown",
   "metadata": {},
   "source": [
    "#### Validation curve"
   ]
  },
  {
   "cell_type": "code",
   "execution_count": 20,
   "metadata": {},
   "outputs": [
    {
     "name": "stdout",
     "output_type": "stream",
     "text": [
      "[[ 0.68421053  0.675       0.675     ]\n",
      " [ 0.89473684  0.875       0.675     ]\n",
      " [ 0.86842105  0.975       0.875     ]\n",
      " [ 1.          1.          0.975     ]]\n",
      "[[ 0.66666667  0.68421053  0.68421053]\n",
      " [ 0.42857143  0.47368421  0.68421053]\n",
      " [ 0.71428571  0.63157895  0.89473684]\n",
      " [ 0.71428571  0.63157895  0.73684211]]\n"
     ]
    }
   ],
   "source": [
    "from sklearn.svm import SVC\n",
    "from sklearn.model_selection import validation_curve\n",
    "param_range = np.logspace(-3,3,4)\n",
    "svm_clf = SVC()\n",
    "train_scores, test_scores = validation_curve(svm_clf,X,y,param_name=\"gamma\",param_range=param_range,cv=3)\n",
    "print train_scores\n",
    "print test_scores\n",
    "plt.figure()\n",
    "plt.plot()"
   ]
  }
 ],
 "metadata": {
  "kernelspec": {
   "display_name": "Python 2",
   "language": "python",
   "name": "python2"
  },
  "language_info": {
   "codemirror_mode": {
    "name": "ipython",
    "version": 2
   },
   "file_extension": ".py",
   "mimetype": "text/x-python",
   "name": "python",
   "nbconvert_exporter": "python",
   "pygments_lexer": "ipython2",
   "version": "2.7.8"
  }
 },
 "nbformat": 4,
 "nbformat_minor": 2
}
