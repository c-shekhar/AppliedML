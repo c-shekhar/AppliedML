{
 "cells": [
  {
   "cell_type": "markdown",
   "metadata": {},
   "source": [
    "### Ridge Regression"
   ]
  },
  {
   "cell_type": "code",
   "execution_count": 52,
   "metadata": {},
   "outputs": [
    {
     "name": "stdout",
     "output_type": "stream",
     "text": [
      "(1495, 88)\n"
     ]
    },
    {
     "data": {
      "text/plain": [
       "Ridge(alpha=20.0, copy_X=True, fit_intercept=True, max_iter=None,\n",
       "   normalize=False, random_state=None, solver='auto', tol=0.001)"
      ]
     },
     "execution_count": 52,
     "metadata": {},
     "output_type": "execute_result"
    }
   ],
   "source": [
    "import numpy as np\n",
    "from sklearn.linear_model import Ridge\n",
    "from sklearn.model_selection import train_test_split\n",
    "from adspy_shared_utilities import load_crime_dataset\n",
    "X_crime,y_crime = load_crime_dataset()\n",
    "X_train,X_test,y_train,y_test = train_test_split(X_crime,y_crime,random_state=0)\n",
    "ridge_reg = Ridge(alpha=20.0)\n",
    "ridge_reg.fit(X_train,y_train)"
   ]
  },
  {
   "cell_type": "code",
   "execution_count": 62,
   "metadata": {},
   "outputs": [
    {
     "name": "stdout",
     "output_type": "stream",
     "text": [
      "Crime Dataset\n",
      "Ridge Regression linear model coefficients: [  1.95091438e-03   2.19322667e+01   9.56286607e+00  -3.59178973e+01\n",
      "   6.36465325e+00  -1.96885471e+01  -2.80715856e-03   1.66254486e+00\n",
      "  -6.61426604e-03  -6.95450680e+00   1.71944731e+01  -5.62819154e+00\n",
      "   8.83525114e+00   6.79085746e-01  -7.33614221e+00   6.70389803e-03\n",
      "   9.78505502e-04   5.01202169e-03  -4.89870524e+00  -1.79270062e+01\n",
      "   9.17572382e+00  -1.24454193e+00   1.21845360e+00   1.03233089e+01\n",
      "  -3.78037278e+00  -3.73428973e+00   4.74595305e+00   8.42696855e+00\n",
      "   3.09250005e+01   1.18644167e+01  -2.05183675e+00  -3.82210450e+01\n",
      "   1.85081589e+01   1.52510829e+00  -2.20086608e+01   2.46283912e+00\n",
      "   3.29328703e-01   4.02228467e+00  -1.12903533e+01  -4.69567413e-03\n",
      "   4.27046505e+01  -1.22507167e-03   1.40795790e+00   9.35041855e-01\n",
      "  -3.00464253e+00   1.12390514e+00  -1.82487653e+01  -1.54653407e+01\n",
      "   2.41917002e+01  -1.32497562e+01  -4.20113118e-01  -3.59710660e+01\n",
      "   1.29786751e+01  -2.80765995e+01   4.38513476e+01   3.86590044e+01\n",
      "  -6.46024046e+01  -1.63714023e+01   2.90397330e+01   4.15472907e+00\n",
      "   5.34033563e+01   1.98773191e-02  -5.47413979e-01   1.23883518e+01\n",
      "   1.03526583e+01  -1.57238894e+00   3.15887097e+00   8.77757987e+00\n",
      "  -2.94724962e+01  -2.33489624e-04   3.13528914e-04  -4.13134187e-04\n",
      "  -1.80345283e-04  -5.74054528e-01  -5.17742507e-01  -4.20670929e-01\n",
      "   1.53383592e-01   1.32725423e+00   3.84863158e+00   3.03024594e+00\n",
      "  -3.77692644e+01   1.37933464e-01   3.07676522e-01   1.57128807e+01\n",
      "   3.31418306e-01   3.35994414e+00   1.61265911e-01  -2.67619878e+00]\n",
      "Ridge Regression linear model intercept: -3352.42303585\n",
      "Ridge Regression linear model R-Squared score on training set: 0.6709\n",
      "Ridge Regression linear model R-Squared score on test set:0.4940\n",
      "Number of Non-Zero features: 88\n"
     ]
    }
   ],
   "source": [
    "print \"Crime Dataset\"\n",
    "print \"Ridge Regression linear model coefficients: {}\".format(ridge_reg.coef_)\n",
    "print \"Ridge Regression linear model intercept: {}\".format(ridge_reg.intercept_)\n",
    "print \"Ridge Regression linear model R-Squared score on training set: {:.4f}\"\\\n",
    ".format(ridge_reg.score(X_train,y_train))\n",
    "print \"Ridge Regression linear model R-Squared score on test set:{:.4f}\"\\\n",
    ".format(ridge_reg.score(X_test,y_test))\n",
    "print \"Number of Non-Zero features: {}\".format(np.sum(ridge_reg.coef_ != 0))"
   ]
  },
  {
   "cell_type": "markdown",
   "metadata": {},
   "source": [
    "#### Ridge Regression with feature normalization"
   ]
  },
  {
   "cell_type": "code",
   "execution_count": 66,
   "metadata": {},
   "outputs": [
    {
     "name": "stdout",
     "output_type": "stream",
     "text": [
      "Crime Dataset\n",
      "Ridge Regression linear model coefficients: [  88.68827454   16.48947987  -50.30285445  -82.90507574  -65.89507244\n",
      "   -2.27674244   87.74108514  150.94862182   18.8802613   -31.05554992\n",
      "  -43.13536109 -189.44266328   -4.52658099  107.97866804  -76.53358414\n",
      "    2.86032762   34.95230077   90.13523036   52.46428263  -62.10898424\n",
      "  115.01780357    2.66942023    6.94331369   -5.66646499 -101.55269144\n",
      "  -36.9087526    -8.7053343    29.11999068  171.25963057   99.36919476\n",
      "   75.06611841  123.63522539   95.24316483 -330.61044265 -442.30179004\n",
      " -284.49744001 -258.37150609   17.66431072 -101.70717151  110.64762887\n",
      "  523.13611718   24.8208959     4.86533322  -30.46775619   -3.51753937\n",
      "   50.57947231   10.84840601   18.27680946   44.11189865   58.33588176\n",
      "   67.08698975  -57.93524659  116.1446052    53.81163718   49.01607711\n",
      "   -7.62262031   55.14288543  -52.08878272  123.39291017   77.12562171\n",
      "   45.49795317  184.91229771  -91.35721203    1.07975971  234.09267451\n",
      "   10.3887921    94.7171829   167.91856631  -25.14025088   -1.18242839\n",
      "   14.60362467   36.77122659   53.19878339  -78.86365997   -5.89858411\n",
      "   26.04790298  115.1534917    68.74143311   68.28588166   16.5260514\n",
      "  -97.90513652  205.20448474   75.97304123   61.3791085   -79.83157049\n",
      "   67.26700741   95.67094538  -11.88380569]\n",
      "Ridge Regression linear model intercept: 933.390638504\n",
      "Ridge Regression linear model R-Squared score on training set: 0.6146\n",
      "Ridge Regression linear model R-Squared score on test set:0.5986\n",
      "Number of Non-Zero features: 88\n"
     ]
    }
   ],
   "source": [
    "from sklearn.preprocessing import MinMaxScaler\n",
    "scaler = MinMaxScaler()\n",
    "scaler.fit(X_train)\n",
    "X_train_scaled = scaler.transform(X_train)\n",
    "X_test_scaled = scaler.transform(X_test)\n",
    "ridge_reg = Ridge(alpha=20.0)\n",
    "ridge_reg.fit(X_train_scaled,y_train)\n",
    "print \"Crime Dataset\"\n",
    "print \"Ridge Regression linear model coefficients: {}\".format(ridge_reg.coef_)\n",
    "print \"Ridge Regression linear model intercept: {}\".format(ridge_reg.intercept_)\n",
    "print \"Ridge Regression linear model R-Squared score on training set: {:.4f}\"\\\n",
    ".format(ridge_reg.score(X_train_scaled,y_train))\n",
    "print \"Ridge Regression linear model R-Squared score on test set:{:.4f}\"\\\n",
    ".format(ridge_reg.score(X_test_scaled,y_test))\n",
    "print \"Number of Non-Zero features: {}\".format(np.sum(ridge_reg.coef_ != 0))"
   ]
  },
  {
   "cell_type": "markdown",
   "metadata": {},
   "source": [
    "#### Ridge Regression with regularization parameter:alpha"
   ]
  },
  {
   "cell_type": "code",
   "execution_count": 73,
   "metadata": {},
   "outputs": [
    {
     "name": "stdout",
     "output_type": "stream",
     "text": [
      "Crime Dataset\n",
      "Ridge Regression linear model R-Squared score with alpha = 1 on training set: 0.6602\n",
      "Ridge Regression linear model R-Squared score with alpha = 1 on test set:0.5603\n",
      "There are 45 Larger coefficients with alpha = 1\n",
      "Ridge Regression linear model R-Squared score with alpha = 10 on training set: 0.6305\n",
      "Ridge Regression linear model R-Squared score with alpha = 10 on test set:0.5942\n",
      "There are 56 Larger coefficients with alpha = 10\n",
      "Ridge Regression linear model R-Squared score with alpha = 20 on training set: 0.6146\n",
      "Ridge Regression linear model R-Squared score with alpha = 20 on test set:0.5986\n",
      "There are 56 Larger coefficients with alpha = 20\n",
      "Ridge Regression linear model R-Squared score with alpha = 50 on training set: 0.5844\n",
      "Ridge Regression linear model R-Squared score with alpha = 50 on test set:0.5827\n",
      "There are 56 Larger coefficients with alpha = 50\n",
      "Ridge Regression linear model R-Squared score with alpha = 100 on training set: 0.5505\n",
      "Ridge Regression linear model R-Squared score with alpha = 100 on test set:0.5511\n",
      "There are 54 Larger coefficients with alpha = 100\n",
      "Ridge Regression linear model R-Squared score with alpha = 1000 on training set: 0.3079\n",
      "Ridge Regression linear model R-Squared score with alpha = 1000 on test set:0.3020\n",
      "There are 47 Larger coefficients with alpha = 1000\n"
     ]
    }
   ],
   "source": [
    "from sklearn.preprocessing import MinMaxScaler\n",
    "scaler = MinMaxScaler()\n",
    "scaler.fit(X_train)\n",
    "X_train_scaled = scaler.transform(X_train)\n",
    "X_test_scaled = scaler.transform(X_test)\n",
    "print \"Crime Dataset\"\n",
    "for alpha in [1,10,20,50,100,1000]:\n",
    "    ridge_reg = Ridge(alpha=alpha)\n",
    "    ridge_reg.fit(X_train_scaled,y_train)\n",
    "    print \"Ridge Regression linear model R-Squared score with alpha = {} on training set: {:.4f}\"\\\n",
    "    .format(alpha,ridge_reg.score(X_train_scaled,y_train))\n",
    "    print \"Ridge Regression linear model R-Squared score with alpha = {} on test set:{:.4f}\"\\\n",
    "    .format(alpha,ridge_reg.score(X_test_scaled,y_test))\n",
    "    print \"There are {} Larger coefficients with alpha = {}\".format(np.sum(ridge_reg.coef_ > 1.0),alpha)"
   ]
  }
 ],
 "metadata": {
  "kernelspec": {
   "display_name": "Python 2",
   "language": "python",
   "name": "python2"
  },
  "language_info": {
   "codemirror_mode": {
    "name": "ipython",
    "version": 2
   },
   "file_extension": ".py",
   "mimetype": "text/x-python",
   "name": "python",
   "nbconvert_exporter": "python",
   "pygments_lexer": "ipython2",
   "version": "2.7.8"
  }
 },
 "nbformat": 4,
 "nbformat_minor": 2
}
